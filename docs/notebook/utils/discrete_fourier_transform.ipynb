{
 "cells": [
  {
   "cell_type": "markdown",
   "metadata": {},
   "source": [
    "# Bidimensional Fourier Transform\n",
    "The BidimensionalFourierTransform computes FFT of functions defined on bidimensional domain and return a ScalarBidimensionalFunction representing the spectrum and the frequency domain."
   ]
  },
  {
   "cell_type": "code",
   "execution_count": 1,
   "metadata": {},
   "outputs": [],
   "source": [
    "import matplotlib.pyplot as plt\n",
    "import numpy as np\n",
    "from arte.utils.discrete_fourier_transform import \\\n",
    "    BidimensionalFourierTransform as bfft\n",
    "from arte.types.domainxy import DomainXY\n",
    "from arte.types.scalar_bidimensional_function import ScalarBidimensionalFunction"
   ]
  },
  {
   "cell_type": "markdown",
   "metadata": {},
   "source": [
    "### Direct transform of 2D functions\n",
    "In the simplest example we transform a constant function of amplitude=1 defined in the domain [-2,2), sampled on 4x4 grid. As the normalization perserve the total power we expect a spectrum centered in (0,0) with amplitude sqrt(16)"
   ]
  },
  {
   "cell_type": "code",
   "execution_count": 2,
   "metadata": {},
   "outputs": [
    {
     "name": "stdout",
     "output_type": "stream",
     "text": [
      "Values:\n",
      "[[0. 0. 0. 0.]\n",
      " [0. 0. 0. 0.]\n",
      " [0. 0. 4. 0.]\n",
      " [0. 0. 0. 0.]]\n",
      "Freq X:\n",
      "[[-0.5  -0.25  0.    0.25]\n",
      " [-0.5  -0.25  0.    0.25]\n",
      " [-0.5  -0.25  0.    0.25]\n",
      " [-0.5  -0.25  0.    0.25]]\n",
      "Freq Y:\n",
      "[[-0.5  -0.5  -0.5  -0.5 ]\n",
      " [-0.25 -0.25 -0.25 -0.25]\n",
      " [ 0.    0.    0.    0.  ]\n",
      " [ 0.25  0.25  0.25  0.25]]\n"
     ]
    },
    {
     "data": {
      "image/png": "[encoded data removed]",
      "text/plain": [
       "<Figure size 432x288 with 1 Axes>"
      ]
     },
     "metadata": {
      "needs_background": "light"
     },
     "output_type": "display_data"
    }
   ],
   "source": [
    "sz = 4\n",
    "spatial_step= 1.0\n",
    "ampl = 1.0\n",
    "xy = DomainXY.from_shape((sz, sz), spatial_step)\n",
    "constant_map= ampl*np.ones(xy.shape) \n",
    "spatial_funct = ScalarBidimensionalFunction(constant_map, domain=xy)\n",
    "spectr = bfft.direct(spatial_funct)\n",
    "plt.imshow(abs(spectr.values))\n",
    "print(\"Values:\\n%s\" % abs(spectr.values))\n",
    "print(\"Freq X:\\n%s\" % spectr.xmap)\n",
    "print(\"Freq Y:\\n%s\" % spectr.ymap)"
   ]
  },
  {
   "cell_type": "markdown",
   "metadata": {},
   "source": [
    "### Inverse Transform\n",
    "The inverse transform return the original spatial function, as expected."
   ]
  },
  {
   "cell_type": "code",
   "execution_count": 3,
   "metadata": {},
   "outputs": [
    {
     "name": "stdout",
     "output_type": "stream",
     "text": [
      "Values:\n",
      "[[1.+0.j 1.+0.j 1.+0.j 1.+0.j]\n",
      " [1.+0.j 1.+0.j 1.+0.j 1.+0.j]\n",
      " [1.+0.j 1.+0.j 1.+0.j 1.+0.j]\n",
      " [1.+0.j 1.+0.j 1.+0.j 1.+0.j]]\n",
      "Freq X:\n",
      "[[-2. -1.  0.  1.]\n",
      " [-2. -1.  0.  1.]\n",
      " [-2. -1.  0.  1.]\n",
      " [-2. -1.  0.  1.]]\n",
      "Freq Y:\n",
      "[[-2. -2. -2. -2.]\n",
      " [-1. -1. -1. -1.]\n",
      " [ 0.  0.  0.  0.]\n",
      " [ 1.  1.  1.  1.]]\n"
     ]
    }
   ],
   "source": [
    "inverse_spectr = bfft.inverse(spectr)\n",
    "print(\"Values:\\n%s\" % inverse_spectr.values)\n",
    "print(\"Freq X:\\n%s\" % inverse_spectr.xmap)\n",
    "print(\"Freq Y:\\n%s\" % inverse_spectr.ymap)"
   ]
  },
  {
   "cell_type": "markdown",
   "metadata": {},
   "source": [
    "### Normalization\n",
    "Spectra are normalized to preserve total energy    "
   ]
  },
  {
   "cell_type": "code",
   "execution_count": 21,
   "metadata": {},
   "outputs": [
    {
     "name": "stdout",
     "output_type": "stream",
     "text": [
      "Power of spatial funct 2.59543\n",
      "Power of spectral funct 2.59543\n"
     ]
    }
   ],
   "source": [
    "xy = DomainXY.from_xy_vectors(np.linspace(-2,2,4), np.linspace(-4,0,5))\n",
    "spatial_map = np.random.random(xy.xmap.shape)\n",
    "spatial_funct = ScalarBidimensionalFunction(spatial_map, domain=xy)\n",
    "spectral_funct = bfft.direct(spatial_funct)\n",
    "print(\"Power of spatial funct %g\" % np.linalg.norm(spatial_funct.values))\n",
    "print(\"Power of spectral funct %g\" % np.linalg.norm(spectral_funct.values))"
   ]
  },
  {
   "cell_type": "markdown",
   "metadata": {},
   "source": [
    "### Non centered domain\n",
    "The same example as before, on a spatial domain centered in (3,2) instead of the origin"
   ]
  },
  {
   "cell_type": "code",
   "execution_count": 4,
   "metadata": {},
   "outputs": [
    {
     "name": "stdout",
     "output_type": "stream",
     "text": [
      "Spatial Domain X: [1.5 2.5 3.5 4.5]\n",
      "Spatial Domain Y: [0.5 1.5 2.5 3.5]\n",
      "Spectrum Map:\n",
      "[[0. 0. 0. 0.]\n",
      " [0. 0. 0. 0.]\n",
      " [0. 0. 4. 0.]\n",
      " [0. 0. 0. 0.]]\n",
      "Freq X: [-0.5  -0.25  0.    0.25]\n",
      "Freq Y: [-0.5  -0.25  0.    0.25]\n"
     ]
    },
    {
     "data": {
      "image/png": "[encoded data removed]",
      "text/plain": [
       "<Figure size 432x288 with 1 Axes>"
      ]
     },
     "metadata": {
      "needs_background": "light"
     },
     "output_type": "display_data"
    }
   ],
   "source": [
    "sz = 4\n",
    "spatial_step= 1.0\n",
    "ampl = 1.0\n",
    "xy = DomainXY.from_shape((sz, sz), spatial_step)\n",
    "xy.shift(3, 2)\n",
    "constant_map= ampl*np.ones(xy.shape) \n",
    "spatial_funct = ScalarBidimensionalFunction(constant_map, domain=xy)\n",
    "spectr = bfft.direct(spatial_funct)\n",
    "plt.imshow(abs(spectr.values))\n",
    "print(\"Spatial Domain X: %s\" % xy.xcoord)\n",
    "print(\"Spatial Domain Y: %s\" % xy.ycoord)\n",
    "print(\"Spectrum Map:\\n%s\" % abs(spectr.values))\n",
    "print(\"Freq X: %s\" % spectr.xcoord)\n",
    "print(\"Freq Y: %s\" % spectr.ycoord)"
   ]
  },
  {
   "cell_type": "markdown",
   "metadata": {},
   "source": [
    "### Direct transform on rectangular, unevenly spaced domain\n",
    "In the example below the spectrum of a constant function defined on a rectangular domain with regular sampling is computed. With a spatial domain of (x,y)=(20,10) points sampled at dx=0.1 and dy=0.4, we expect the spectral range to have minimum frequencies $(f^{min}_x, f^{min}_y) = (5, 1.25)$ and spectral resolution $(df_x, df_y) = (0.5, 0.25)$"
   ]
  },
  {
   "cell_type": "code",
   "execution_count": 5,
   "metadata": {},
   "outputs": [
    {
     "name": "stdout",
     "output_type": "stream",
     "text": [
      "spatial domain X: [-0.95 -0.85 -0.75 -0.65 -0.55 -0.45 -0.35 -0.25 -0.15 -0.05  0.05  0.15\n",
      "  0.25  0.35  0.45  0.55  0.65  0.75  0.85  0.95]\n",
      "spatial domain Y: [-1.8 -1.4 -1.  -0.6 -0.2  0.2  0.6  1.   1.4  1.8]\n",
      "spectral value in (0,0) should be 14.1421\n",
      "Check: v(0,0) = 14.1421\n",
      "Min/Max freq x should be 5. delta_freq_x should be 0.5\n",
      "Check: freq x min/max/delta -5/4.5/0.5\n",
      "Min/Max freq y should be 1.25. delta_freq_x should be 0.25\n",
      "Check: freq y min/max/delta -1.25/1/0.25\n"
     ]
    },
    {
     "data": {
      "image/png": "[encoded data removed]",
      "text/plain": [
       "<Figure size 432x288 with 1 Axes>"
      ]
     },
     "metadata": {
      "needs_background": "light"
     },
     "output_type": "display_data"
    }
   ],
   "source": [
    "szx, szy = (20,10)\n",
    "stepx, stepy= (0.1, 0.4)\n",
    "ampl = 1.0\n",
    "xy = DomainXY.from_shape((szy, szx), (stepy, stepx))\n",
    "constant_map= ampl*np.ones(xy.shape) \n",
    "spatial_funct = ScalarBidimensionalFunction(constant_map, domain=xy)\n",
    "spectr = bfft.direct(spatial_funct)\n",
    "plt.imshow(abs(spectr.values))\n",
    "\n",
    "print(\"spatial domain X: %s\" % xy.xcoord)\n",
    "print(\"spatial domain Y: %s\" % xy.ycoord)\n",
    "\n",
    "print(\"spectral value in (0,0) should be %g\" % (np.sqrt(ampl*szx*szy)))\n",
    "print(\"Check: v(%g,%g) = %g\" % (\n",
    "    spectr.xmap[szy//2, szx//2],spectr.ymap[szy//2,szx//2],spectr.values[szy//2,szx//2].real))\n",
    "freq_step_x, freq_step_y = spectr.domain.step\n",
    "print(\"Min/Max freq x should be %g. delta_freq_x should be %g\" % (\n",
    "    0.5/stepx, 1/(szx*stepx)))\n",
    "print(\"Check: freq x min/max/delta %g/%g/%g\" % (spectr.xcoord[0], spectr.xcoord[-1], freq_step_x))\n",
    "print(\"Min/Max freq y should be %g. delta_freq_x should be %g\" % (\n",
    "    0.5/stepy, 1/(szy*stepy)))\n",
    "print(\"Check: freq y min/max/delta %g/%g/%g\" % (spectr.ycoord[0], spectr.ycoord[-1], freq_step_y))\n"
   ]
  },
  {
   "cell_type": "markdown",
   "metadata": {},
   "source": [
    "### Units\n",
    "The discrete_fourier_transform module preserve units"
   ]
  },
  {
   "cell_type": "code",
   "execution_count": 6,
   "metadata": {},
   "outputs": [
    {
     "name": "stdout",
     "output_type": "stream",
     "text": [
      "Spectrum xmap unit: 1 / m\n",
      "Spectrum ymap unit: 1 / kg\n",
      "Spectrum xcoord unit: 1 / m\n",
      "Spectrum ycoord unit: 1 / kg\n",
      "Spectrum value unit: V\n"
     ]
    }
   ],
   "source": [
    "from astropy import units as u\n",
    "szx, szy = (20,10)\n",
    "stepx, stepy= (0.1 * u.m, 0.4*u.kg)\n",
    "ampl = 1.0 * u.V\n",
    "xy = DomainXY.from_shape((szy, szx), (stepy, stepx))\n",
    "map_in_V= ampl*np.ones(xy.shape) \n",
    "spatial_funct = ScalarBidimensionalFunction(map_in_V, domain=xy)\n",
    "spectr = bfft.direct(spatial_funct)\n",
    "print(\"Spectrum xmap unit: %s\" % spectr.xmap.unit)\n",
    "print(\"Spectrum ymap unit: %s\" % spectr.ymap.unit)\n",
    "print(\"Spectrum xcoord unit: %s\" % spectr.xcoord.unit)\n",
    "print(\"Spectrum ycoord unit: %s\" % spectr.ycoord.unit)\n",
    "print(\"Spectrum value unit: %s\" % spectr.values.unit)"
   ]
  },
  {
   "cell_type": "markdown",
   "metadata": {},
   "source": [
    "### Transform of numpy array\n",
    "The class BidimensionalFourierTransform is meant to be used with ScalarBidimensionalFunction, but it provides also the two methods direct_transform and inverse_transform that can be used with numpy arrays representing the function values. The return value is a complex array, the computation of the frequency domain is demanded to the user."
   ]
  },
  {
   "cell_type": "code",
   "execution_count": 7,
   "metadata": {},
   "outputs": [
    {
     "data": {
      "text/plain": [
       "array([[ 0.+0.j,  0.+0.j,  0.+0.j],\n",
       "       [ 0.+0.j, 33.+0.j,  0.+0.j],\n",
       "       [ 0.+0.j,  0.+0.j,  0.+0.j]])"
      ]
     },
     "execution_count": 7,
     "metadata": {},
     "output_type": "execute_result"
    }
   ],
   "source": [
    "sz = 10\n",
    "constant_map = np.ones((sz, sz)) * 3.3\n",
    "res = bfft.direct_transform(constant_map)\n",
    "res[4:7,4:7]"
   ]
  },
  {
   "cell_type": "code",
   "execution_count": null,
   "metadata": {},
   "outputs": [],
   "source": []
  },
  {
   "cell_type": "code",
   "execution_count": 40,
   "metadata": {},
   "outputs": [
    {
     "name": "stdout",
     "output_type": "stream",
     "text": [
      "[[0.00000000e+00 0.00000000e+00 0.00000000e+00 0.00000000e+00\n",
      "  0.00000000e+00 0.00000000e+00 0.00000000e+00 0.00000000e+00\n",
      "  0.00000000e+00 0.00000000e+00 0.00000000e+00 0.00000000e+00\n",
      "  0.00000000e+00 0.00000000e+00 0.00000000e+00 0.00000000e+00\n",
      "  0.00000000e+00 0.00000000e+00 0.00000000e+00 0.00000000e+00]\n",
      " [4.38854184e-18 5.87009310e-16 2.63739711e-16 3.50612825e-16\n",
      "  2.80900961e-16 5.51212035e-16 5.82806108e-16 1.03947191e-15\n",
      "  3.16227766e+00 8.63625182e-16 3.15975012e-16 8.63625182e-16\n",
      "  3.16227766e+00 1.03947191e-15 5.82806108e-16 5.51212035e-16\n",
      "  7.02166694e-17 3.50612825e-16 2.63739711e-16 5.87009310e-16]] V\n",
      "[-5.  -4.5 -4.  -3.5 -3.  -2.5 -2.  -1.5 -1.  -0.5  0.   0.5  1.   1.5\n",
      "  2.   2.5  3.   3.5  4.   4.5] 1 / s\n",
      "[-0.5  0. ] 1 / kg\n"
     ]
    },
    {
     "data": {
      "text/plain": [
       "[<matplotlib.lines.Line2D at 0xb1c8e9b00>]"
      ]
     },
     "execution_count": 40,
     "metadata": {},
     "output_type": "execute_result"
    },
    {
     "data": {
      "image/png": "[encoded data removed]",
      "text/plain": [
       "<Figure size 432x288 with 1 Axes>"
      ]
     },
     "metadata": {
      "needs_background": "light"
     },
     "output_type": "display_data"
    },
    {
     "data": {
      "image/png": "[encoded data removed]",
      "text/plain": [
       "<Figure size 432x288 with 1 Axes>"
      ]
     },
     "metadata": {
      "needs_background": "light"
     },
     "output_type": "display_data"
    }
   ],
   "source": [
    "from astropy import units as u\n",
    "szx, szy = (20,2)\n",
    "stepx, stepy= (0.1 * u.s, 1*u.kg)\n",
    "ampl = 1.0 * u.V\n",
    "period = 1 * u.s\n",
    "xy = DomainXY.from_shape((szy, szx), (stepy, stepx))\n",
    "map_in_V= ampl*np.sin( (2*np.pi*xy.xmap/period).to(u.rad, equivalencies=u.dimensionless_angles())) \n",
    "spatial_f = ScalarBidimensionalFunction(map_in_V, domain=xy)\n",
    "spectral_f = bfft.direct(spatial_f)\n",
    "print(np.abs(spectral_f.values))\n",
    "print(spectral_f.xcoord)\n",
    "print(spectral_f.ycoord)\n",
    "plt.figure()\n",
    "plt.plot(spatial_f.xmap[0,:], spatial_f.values[0,:], '.-')\n",
    "plt.figure()\n",
    "plt.plot(spectral_f.xmap[1,:], np.abs(spectral_f.values)[1,:], '.-')"
   ]
  },
  {
   "cell_type": "code",
   "execution_count": null,
   "metadata": {},
   "outputs": [],
   "source": []
  }
 ],
 "metadata": {
  "kernelspec": {
   "display_name": "Python 3",
   "language": "python",
   "name": "python3"
  },
  "language_info": {
   "codemirror_mode": {
    "name": "ipython",
    "version": 3
   },
   "file_extension": ".py",
   "mimetype": "text/x-python",
   "name": "python",
   "nbconvert_exporter": "python",
   "pygments_lexer": "ipython3",
   "version": "3.6.10"
  }
 },
 "nbformat": 4,
 "nbformat_minor": 4
}
