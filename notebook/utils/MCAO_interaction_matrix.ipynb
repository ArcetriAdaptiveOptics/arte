{
 "cells": [
  {
   "cell_type": "markdown",
   "metadata": {},
   "source": [
    "# Example of MCAO interaction matrices"
   ]
  },
  {
   "cell_type": "markdown",
   "metadata": {},
   "source": [
    "## One layer, two NGSs\n",
    "We compute the interaction matrix for a system measuring tip, tilt and focus with two NGS and correcting tip, tilt and focus. As a first step, we consider only one layer - consequently, there will be only one DM. <br> We compare the elements of the interaction matrix with the analytical ones from Negro84."
   ]
  },
  {
   "cell_type": "code",
   "execution_count": 3,
   "metadata": {},
   "outputs": [],
   "source": [
    "from apposto.utils.footprint_geometry import FootprintGeometry\n",
    "from apposto.types.aperture import CircularOpticalAperture\n",
    "from apposto.utils.mcao_interaction_matrix import MCAOInteractionMatrix\n",
    "import numpy as np"
   ]
  },
  {
   "cell_type": "code",
   "execution_count": 23,
   "metadata": {},
   "outputs": [],
   "source": [
    "ngs1_pos = (30, 0)\n",
    "ngs2_pos = (-10, 20)\n",
    "target_pos = (0, 0)\n",
    "zenith_angle = 0\n",
    "telescope_radius = 10\n",
    "fov = 50\n",
    "altitude = 10e3\n",
    "n_modes_sensed = 3\n",
    "idx_modes_corrected = [np.array([2, 3, 4])]\n",
    "\n",
    "fp = FootprintGeometry()\n",
    "fp.set_zenith_angle(zenith_angle)\n",
    "fp.setTelescopeRadiusInMeter(telescope_radius)\n",
    "fp.setInstrumentFoV(fov)\n",
    "fp.setLayerAltitude(altitude)\n",
    "fp.addNgs(ngs1_pos[0], ngs1_pos[1])\n",
    "fp.addNgs(ngs2_pos[0], ngs2_pos[1])\n",
    "fp.addTarget(target_pos[0], target_pos[1])\n",
    "fp.compute()"
   ]
  },
  {
   "cell_type": "code",
   "execution_count": 24,
   "metadata": {},
   "outputs": [
    {
     "name": "stdout",
     "output_type": "stream",
     "text": [
      "Metapupil radius in meters: 11.4544\n",
      "NGS1 radius in meters: 10\n",
      "NGS2 radius in meters: 10\n"
     ]
    }
   ],
   "source": [
    "metapupil_radius = fp.getMetapupilFootprint()[0].r\n",
    "ngs1_footprint_radius = fp.getNgsFootprint()[0].r\n",
    "ngs2_footprint_radius = fp.getNgsFootprint()[1].r\n",
    "print('Metapupil radius in meters: {}'.format(metapupil_radius))\n",
    "print('NGS1 radius in meters: {}'.format(ngs1_footprint_radius))\n",
    "print('NGS2 radius in meters: {}'.format(ngs2_footprint_radius))"
   ]
  },
  {
   "cell_type": "code",
   "execution_count": 25,
   "metadata": {},
   "outputs": [],
   "source": [
    "dm = CircularOpticalAperture(metapupil_radius, [0, 0, 0])"
   ]
  },
  {
   "cell_type": "code",
   "execution_count": 33,
   "metadata": {},
   "outputs": [
    {
     "name": "stdout",
     "output_type": "stream",
     "text": [
      "Interaction matrix: \n",
      " [[ 8.73362445e-01  0.00000000e+00  3.83131316e-01]\n",
      " [ 1.10480201e-16  8.73362445e-01  4.44089210e-16]\n",
      " [-1.96457434e-16  0.00000000e+00  7.62761939e-01]\n",
      " [ 8.73362445e-01 -1.08420217e-19 -1.18902822e-01]\n",
      " [ 1.16876994e-16  8.73362445e-01 -3.96342741e-02]\n",
      " [-1.87892236e-16  0.00000000e+00  7.62761939e-01]]\n"
     ]
    }
   ],
   "source": [
    "im = MCAOInteractionMatrix([fp], [dm], n_modes_sensed, idx_modes_corrected)\n",
    "ngs_im = im.getInteractionMatrixOffTarget()\n",
    "print('Interaction matrix: \\n {}'.format(ngs_im))"
   ]
  },
  {
   "cell_type": "code",
   "execution_count": 45,
   "metadata": {},
   "outputs": [
    {
     "name": "stdout",
     "output_type": "stream",
     "text": [
      "22 from Negro: 0.8730269590724962, \n",
      "22 from interaction matrix: 0.8733624454148553 \n",
      "\n",
      "33 from Negro: 0.8730269590724962, \n",
      "33 from interaction matrix: 0.8733624454148392 \n",
      "\n",
      "44 from Negro: 0.7621760712673699, \n",
      "44 from interaction matrix: 0.7627619393842133 \n",
      "\n",
      "24_ngs1 from Negro: 0.3839987394851919, \n",
      "24_ngs1 from interaction matrix: 0.3831313164851782 \n",
      "\n",
      "24_ngs2 from Negro: -0.12028026062844177, \n",
      "24_ngs2 from interaction matrix: -0.11890282235746849 \n",
      "\n",
      "34_ngs1 from Negro: 0.0, \n",
      "34_ngs1 from interaction matrix: 4.440892098500626e-16 \n",
      "\n",
      "34_ngs2 from Negro: -0.04377843463853385, \n",
      "34_ngs2 from interaction matrix: -0.03963427411915589 \n",
      "\n"
     ]
    }
   ],
   "source": [
    "fp_ngs1 = fp.getNgsFootprint()[0]\n",
    "fp_ngs2 = fp.getNgsFootprint()[1]\n",
    "h1 = np.sqrt(fp_ngs1.x**2 + fp_ngs1.y**2)\n",
    "a1 = np.arctan2(fp_ngs1.y, fp_ngs1.x)\n",
    "h2 = np.sqrt(fp_ngs2.x**2 + fp_ngs2.y**2)\n",
    "a2 = np.arctan2(fp_ngs2.y, fp_ngs2.x)\n",
    "r1 = ngs1_footprint_radius\n",
    "r2 = ngs2_footprint_radius\n",
    "R = metapupil_radius\n",
    "\n",
    "negro22 = r1 / R\n",
    "negro33 = negro22\n",
    "negro44 = negro22**2\n",
    "negro24_ngs1 = 2 * np.sqrt(3) * h1 / R * r1 / R * np.cos(a1) \n",
    "negro24_ngs2 = 2 * np.sqrt(3) * h2 / R * r2 / R * np.cos(a2)\n",
    "negro34_ngs1 = 2 * np.sqrt(3) * h1 / R * r1 / R * np.sin(a1)\n",
    "negro34_ngs2 = 2 * np.sqrt(3) * h2 / R * r2 / R * np.sin(a2)\n",
    "\n",
    "print('22 from Negro: {}, \\n22 from interaction matrix: {} \\n'.format(negro22, ngs_im[0][0]))\n",
    "print('33 from Negro: {}, \\n33 from interaction matrix: {} \\n'.format(negro33, ngs_im[1][1]))\n",
    "print('44 from Negro: {}, \\n44 from interaction matrix: {} \\n'.format(negro44, ngs_im[2][2]))\n",
    "print('24_ngs1 from Negro: {}, \\n24_ngs1 from interaction matrix: {} \\n'.format(negro24_ngs1, ngs_im[0][2]))\n",
    "print('24_ngs2 from Negro: {}, \\n24_ngs2 from interaction matrix: {} \\n'.format(negro24_ngs2, ngs_im[3][2]))\n",
    "print('34_ngs1 from Negro: {}, \\n34_ngs1 from interaction matrix: {} \\n'.format(negro34_ngs1, ngs_im[1][2]))\n",
    "print('34_ngs2 from Negro: {}, \\n34_ngs2 from interaction matrix: {} \\n'.format(negro34_ngs2, ngs_im[4][2]))"
   ]
  },
  {
   "cell_type": "markdown",
   "metadata": {},
   "source": [
    "## Two layers, two NGS"
   ]
  },
  {
   "cell_type": "code",
   "execution_count": null,
   "metadata": {},
   "outputs": [],
   "source": []
  }
 ],
 "metadata": {
  "kernelspec": {
   "display_name": "Python 3",
   "language": "python",
   "name": "python3"
  },
  "language_info": {
   "codemirror_mode": {
    "name": "ipython",
    "version": 3
   },
   "file_extension": ".py",
   "mimetype": "text/x-python",
   "name": "python",
   "nbconvert_exporter": "python",
   "pygments_lexer": "ipython3",
   "version": "3.7.3"
  }
 },
 "nbformat": 4,
 "nbformat_minor": 2
}
