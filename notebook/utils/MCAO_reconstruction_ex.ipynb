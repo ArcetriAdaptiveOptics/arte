{
 "cells": [
  {
   "cell_type": "markdown",
   "metadata": {},
   "source": [
    "### Reconstruction of one layer's TT and focus from TT sensing with two NGS"
   ]
  },
  {
   "cell_type": "code",
   "execution_count": 4,
   "metadata": {},
   "outputs": [],
   "source": [
    "from apposto.utils.modal_decomposer import ModalDecomposer\n",
    "from apposto.types.wavefront import Wavefront\n",
    "from apposto.types.mask import CircularMask\n",
    "from apposto.utils.zernike_generator import ZernikeGenerator\n",
    "import numpy as np"
   ]
  },
  {
   "cell_type": "code",
   "execution_count": 5,
   "metadata": {},
   "outputs": [],
   "source": [
    "mp_diameter = 1024\n",
    "fp1_center = (512, 512 - 50)\n",
    "fp1_radius = 100\n",
    "fp2_center = (512, 512 + 50)\n",
    "fp2_radius = fp1_radius\n",
    "fp1_mask = CircularMask((mp_diameter, mp_diameter), fp1_radius, fp1_center)\n",
    "fp2_mask = CircularMask((mp_diameter, mp_diameter), fp2_radius, fp2_center)"
   ]
  },
  {
   "cell_type": "code",
   "execution_count": 8,
   "metadata": {},
   "outputs": [
    {
     "name": "stdout",
     "output_type": "stream",
     "text": [
      "Interaction matrix (NGS1): \n",
      " [[ 1.95312500e-01 -3.25260652e-19 -6.60724948e-02]\n",
      " [-1.72930247e-17  1.95312500e-01  3.46944695e-18]\n",
      " [-1.30646362e-17 -1.45716772e-16  3.81469559e-02]] \n",
      "\n",
      "Reconstructor (NGS1): \n",
      " [[5.12000000e+00 9.39224702e-15 8.86810404e+00]\n",
      " [4.53326265e-16 5.12000000e+00 1.36426768e-16]\n",
      " [1.74660224e-15 2.79669749e-14 2.62144115e+01]] \n",
      "\n",
      "Interaction matrix (NGS2): \n",
      " [[ 1.95312500e-01 -1.00288701e-18  6.60724948e-02]\n",
      " [-1.76182853e-17  1.95312500e-01 -1.99493200e-17]\n",
      " [-1.32814766e-17 -1.38777878e-16  3.81469559e-02]] \n",
      "\n",
      "Reconstructor (NGS2): \n",
      " [[ 5.12000000e+00  1.52910645e-14 -8.86810404e+00]\n",
      " [ 4.61852778e-16  5.12000000e+00  4.41104674e-15]\n",
      " [ 1.40932728e-15 -4.59977150e-14  2.62144115e+01]] \n",
      "\n",
      "r_FP/r_MP: 0.1953125\n",
      "(r_FP/r_MP)**2: 0.03814697265625\n"
     ]
    }
   ],
   "source": [
    "zg = ZernikeGenerator(mp_diameter)\n",
    "measured_modes = 3 # Measurement of tip and tilt with NGS\n",
    "m_modes = np.array([2, 3, 4]) # Correction of tip, tilt and focus\n",
    "md = ModalDecomposer(n_zernike_modes=measured_modes)\n",
    "im1 = np.zeros((measured_modes, m_modes.size))\n",
    "\n",
    "for i in range(m_modes.size):\n",
    "    wf = Wavefront(zg.getZernike(m_modes[i]))\n",
    "    a1 = md.measureZernikeCoefficientsFromWavefront(wf, fp1_mask).toNumpyArray()\n",
    "    im1[:, i] = a1\n",
    "    \n",
    "im2 = np.zeros((measured_modes, m_modes.size))\n",
    "for i in range(m_modes.size):\n",
    "    wf = Wavefront(zg.getZernike(m_modes[i]))\n",
    "    a2 = md.measureZernikeCoefficientsFromWavefront(wf, fp2_mask).toNumpyArray()\n",
    "    im2[:, i] = a2\n",
    "\n",
    "print('Interaction matrix (NGS1): \\n {} \\n'.format(im1))\n",
    "print('Reconstructor (NGS1): \\n {} \\n'.format(np.linalg.pinv(im1)))\n",
    "print('Interaction matrix (NGS2): \\n {} \\n'.format(im2))\n",
    "print('Reconstructor (NGS2): \\n {} \\n'.format(np.linalg.pinv(im2)))\n",
    "print('r_FP/r_MP: {}'.format(fp1_radius / (mp_diameter / 2)))\n",
    "print('(r_FP/r_MP)**2: {}'.format(fp1_radius**2 / (mp_diameter / 2)**2))"
   ]
  },
  {
   "cell_type": "code",
   "execution_count": 9,
   "metadata": {},
   "outputs": [
    {
     "name": "stdout",
     "output_type": "stream",
     "text": [
      "Interaction matrix: \n",
      " [[ 1.95312500e-01 -3.25260652e-19 -6.60724948e-02]\n",
      " [-1.72930247e-17  1.95312500e-01  3.46944695e-18]\n",
      " [-1.30646362e-17 -1.45716772e-16  3.81469559e-02]\n",
      " [ 1.95312500e-01 -1.00288701e-18  6.60724948e-02]\n",
      " [-1.76182853e-17  1.95312500e-01 -1.99493200e-17]\n",
      " [-1.32814766e-17 -1.38777878e-16  3.81469559e-02]] \n",
      "\n",
      "Reconstructor: \n",
      " [[ 2.56000000e+00 -2.26663133e-16 -1.71240799e-16  2.56000000e+00\n",
      "  -2.30926389e-16 -1.74082970e-16]\n",
      " [-1.88980446e-15  2.56000000e+00 -6.84201632e-16  2.34739398e-15\n",
      "   2.56000000e+00 -5.93252161e-16]\n",
      " [-5.67558534e+00  3.84414645e-15  3.27679928e+00  5.67558534e+00\n",
      "   1.83248925e-15  3.27679928e+00]] \n",
      "\n"
     ]
    }
   ],
   "source": [
    "im_total = np.vstack((im1, im2))\n",
    "reconstructor = np.linalg.pinv(im_total)\n",
    "print('Interaction matrix: \\n {} \\n'.format(im_total))\n",
    "print('Reconstructor: \\n {} \\n'.format(reconstructor))"
   ]
  }
 ],
 "metadata": {
  "kernelspec": {
   "display_name": "Python 3",
   "language": "python",
   "name": "python3"
  },
  "language_info": {
   "codemirror_mode": {
    "name": "ipython",
    "version": 3
   },
   "file_extension": ".py",
   "mimetype": "text/x-python",
   "name": "python",
   "nbconvert_exporter": "python",
   "pygments_lexer": "ipython3",
   "version": "3.7.3"
  }
 },
 "nbformat": 4,
 "nbformat_minor": 2
}
