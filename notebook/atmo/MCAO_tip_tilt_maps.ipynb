{
 "cells": [
  {
   "cell_type": "markdown",
   "metadata": {},
   "source": [
    "# MCAO tip tilt maps\n",
    "\n",
    "We plot the tip tilt map that we expect performing a MCAO correction. \\\n",
    "We consider two NGS measuring tip, tilt and focus and two DM conjugated at the ground and at 10km correcting, respectively, tip-tilt and focus. \\\n",
    "We produce a grid of 25 positions and we compute the residual for each position (see \"MCAO_residual_examples\"). The residuals are then used to get the map (see \"SCAO_tip_tilt_maps\")."
   ]
  },
  {
   "cell_type": "markdown",
   "metadata": {},
   "source": [
    "### Getting CPSDs"
   ]
  },
  {
   "cell_type": "code",
   "execution_count": 4,
   "metadata": {},
   "outputs": [
    {
     "data": {
      "text/plain": [
       "(25, 2)"
      ]
     },
     "execution_count": 4,
     "metadata": {},
     "output_type": "execute_result"
    }
   ],
   "source": [
    "from apposto.types.aperture import CircularOpticalAperture\n",
    "from apposto.types.guide_source import GuideSource\n",
    "from apposto.atmo.cn2_profile import EsoEltProfiles\n",
    "from apposto.atmo.von_karman_covariance_calculator import VonKarmanSpatioTemporalCovariance\n",
    "import numpy as np\n",
    "import itertools\n",
    "\n",
    "##INITIALIZING THE GENERAL CONFIGURATION\n",
    "\n",
    "#NGSs' configuration\n",
    "theta_ngs1 = 5\n",
    "az_ngs1 = 0\n",
    "theta_ngs2 = -5\n",
    "az_ngs2 = 0\n",
    "ngs1 = GuideSource((theta_ngs1, az_ngs1), np.inf)\n",
    "ngs2 = GuideSource((theta_ngs2, az_ngs2), np.inf)\n",
    "ngs_list = [ngs1, ngs2]\n",
    "\n",
    "#Optical aperture\n",
    "ap_position = [0, 0, 0]\n",
    "ap_radius = 5\n",
    "aperture = CircularOpticalAperture(ap_radius, ap_position)\n",
    "\n",
    "#Atmospheric profile\n",
    "cn2_profile = EsoEltProfiles.Median()\n",
    "\n",
    "#Spatial and temporal frequencies\n",
    "spatial_freqs = np.logspace(-3, 3, 100)\n",
    "temporal_freqs = np.logspace(-3, 3, 100)\n",
    "\n",
    "#Targets\n",
    "#offsets = np.arange(11) * 10 - 50\n",
    "offsets = np.arange(5) * 10 - 20\n",
    "pos_targets = np.array(list(itertools.product(offsets, offsets)))\n",
    "pos_targets.shape"
   ]
  },
  {
   "cell_type": "code",
   "execution_count": 41,
   "metadata": {},
   "outputs": [],
   "source": [
    "#Function to get CPSDs matrices (CPSD_onon and CPSD_onoff) for one target\n",
    "\n",
    "def getCPSDsForOneTarget(target):\n",
    "    vk = VonKarmanSpatioTemporalCovariance(source1=target, source2=target, aperture1=aperture, aperture2=aperture,\n",
    "                                           cn2_profile=cn2_profile, spat_freqs=spatial_freqs)\n",
    "    cpsd_target_22 = vk.getGeneralZernikeCPSD(2, 2, temporal_freqs)\n",
    "    cpsd_target_23 = vk.getGeneralZernikeCPSD(2, 3, temporal_freqs)\n",
    "    cpsd_target_33 = vk.getGeneralZernikeCPSD(3, 3, temporal_freqs)\n",
    "    cpsd_matrix_target = np.array([[cpsd_target_22, cpsd_target_23], [cpsd_target_23, cpsd_target_33]])\n",
    "    \n",
    "    cpsd_off_list = []\n",
    "    for ngs in ngs_list:\n",
    "        vk.setSource2(ngs)\n",
    "        cpsd_off_22 = vk.getGeneralZernikeCPSD(2, 2, temporal_freqs)\n",
    "        cpsd_off_23 = vk.getGeneralZernikeCPSD(2, 3, temporal_freqs)\n",
    "        cpsd_off_33 = vk.getGeneralZernikeCPSD(3, 3, temporal_freqs)\n",
    "        cpsd_off = np.array([[cpsd_off_22, cpsd_off_23], [cpsd_off_23, cpsd_off_33]])\n",
    "        cpsd_off_list.append(cpsd_off)\n",
    "        \n",
    "    cpsd_matrix_ngs = np.vstack(cpsd_off_list)\n",
    "    \n",
    "    return cpsd_matrix_target, cpsd_matrix_ngs"
   ]
  },
  {
   "cell_type": "code",
   "execution_count": 42,
   "metadata": {},
   "outputs": [],
   "source": [
    "#Getting the CPSDs\n",
    "\n",
    "cpsd_mats_target = []\n",
    "cpsd_mats_ngs = []\n",
    "for pos in pos_targets:\n",
    "    target = GuideSource(pos, np.inf)\n",
    "    cpsd_targ, cpsd_ngs = getCPSDsForOneTarget(target)\n",
    "    cpsd_mats_target.append(cpsd_targ)\n",
    "    cpsd_mats_ngs.append(cpsd_ngs)"
   ]
  },
  {
   "cell_type": "code",
   "execution_count": 43,
   "metadata": {},
   "outputs": [
    {
     "name": "stdout",
     "output_type": "stream",
     "text": [
      "25\n",
      "25\n",
      "(4, 2, 100)\n",
      "(2, 2, 100)\n"
     ]
    }
   ],
   "source": [
    "print(len(cpsd_mats_ngs))\n",
    "print(len(cpsd_mats_target))\n",
    "print(cpsd_mats_ngs[0].shape)\n",
    "print(cpsd_mats_target[0].shape)"
   ]
  },
  {
   "cell_type": "code",
   "execution_count": 44,
   "metadata": {},
   "outputs": [],
   "source": [
    "# Getting CPSD of noise\n",
    "cpsd_noise = np.zeros((2, 2, 1000))"
   ]
  },
  {
   "cell_type": "markdown",
   "metadata": {},
   "source": [
    "### Getting projection matrices"
   ]
  },
  {
   "cell_type": "code",
   "execution_count": 24,
   "metadata": {},
   "outputs": [],
   "source": [
    "from apposto.utils.footprint_geometry import FootprintGeometry\n",
    "from apposto.types.aperture import CircularOpticalAperture"
   ]
  },
  {
   "cell_type": "code",
   "execution_count": 25,
   "metadata": {},
   "outputs": [],
   "source": [
    "z_layer1 = 0\n",
    "z_layer2 = 10e3\n",
    "zenith_angle = 0\n",
    "fov = 100\n",
    "n_modes_measured = 2 # Tip and tilt\n",
    "modes_corrected = [np.array([2,3]), np.array([4])]"
   ]
  },
  {
   "cell_type": "code",
   "execution_count": 26,
   "metadata": {},
   "outputs": [],
   "source": [
    "fp1 = FootprintGeometry()\n",
    "fp1.setTelescopeRadiusInMeter(ap_radius)\n",
    "fp1.set_zenith_angle(zenith_angle)\n",
    "fp1.setInstrumentFoV(fov)\n",
    "fp1.setLayerAltitude(z_layer1)\n",
    "fp1.addNgs(theta_ngs1, az_ngs1)\n",
    "fp1.addNgs(theta_ngs2, az_ngs2)\n",
    "for pos in pos_targets:\n",
    "    fp1.addTarget(pos[0], pos[1])\n",
    "fp1.compute()\n",
    "    \n",
    "fp2 = FootprintGeometry()\n",
    "fp2.setTelescopeRadiusInMeter(ap_radius)\n",
    "fp2.set_zenith_angle(zenith_angle)\n",
    "fp2.setInstrumentFoV(fov)\n",
    "fp2.setLayerAltitude(z_layer2)\n",
    "fp2.addNgs(theta_ngs1, az_ngs1)\n",
    "fp2.addNgs(theta_ngs2, az_ngs2)\n",
    "for pos in pos_targets:\n",
    "    fp2.addTarget(pos[0], pos[1])\n",
    "fp2.compute()"
   ]
  },
  {
   "cell_type": "code",
   "execution_count": 27,
   "metadata": {},
   "outputs": [],
   "source": [
    "dm1 = CircularOpticalAperture(fp1.getMetapupilFootprint()[0].r, [0, 0, 0])\n",
    "dm2 = CircularOpticalAperture(fp2.getMetapupilFootprint()[0].r, [0, 0, 0])"
   ]
  },
  {
   "cell_type": "code",
   "execution_count": 28,
   "metadata": {},
   "outputs": [],
   "source": [
    "from apposto.utils import mcao_interaction_matrix\n",
    "\n",
    "im = mcao_interaction_matrix.MCAOInteractionMatrix([fp1, fp2], [dm1, dm2], n_modes_measured, modes_corrected)\n",
    "im_off = im.getInteractionMatrixOffTarget()"
   ]
  },
  {
   "cell_type": "code",
   "execution_count": 31,
   "metadata": {},
   "outputs": [
    {
     "data": {
      "text/plain": [
       "25"
      ]
     },
     "execution_count": 31,
     "metadata": {},
     "output_type": "execute_result"
    }
   ],
   "source": [
    "n_target = pos_targets.shape[0]\n",
    "im_on_list = []\n",
    "for n in range(n_target):\n",
    "    im_on = im.getInteractionMatrixOnTarget(n)\n",
    "    im_on_list.append(im_on)"
   ]
  },
  {
   "cell_type": "code",
   "execution_count": null,
   "metadata": {},
   "outputs": [],
   "source": []
  },
  {
   "cell_type": "code",
   "execution_count": 45,
   "metadata": {},
   "outputs": [],
   "source": [
    "from apposto.utils.footprint_geometry import FootprintGeometry\n",
    "from apposto.utils.zernike_projection_on_subaperture import ZernikeProjectionOnSubaperture\n",
    "\n",
    "z_layer1 = 0\n",
    "z_layer2 = 10e3\n",
    "zenith_angle = 0\n",
    "fov = 100\n",
    "modes_measured = 2 # Tip and tilt\n",
    "modes_layer1 = 2 # Tip and tilt\n",
    "modes_layer2 = 1 # Focus\n",
    "    \n",
    "fg = FootprintGeometry()\n",
    "fg.setTelescopeRadiusInMeter(ap_radius)\n",
    "fg.set_zenith_angle(zenith_angle)\n",
    "fg.setInstrumentFoV(fov)\n",
    "fg.addNgs(theta_ngs1, az_ngs1)\n",
    "fg.addNgs(theta_ngs2, az_ngs2)\n",
    "#fg.addTarget(th_target, az_target)"
   ]
  },
  {
   "cell_type": "code",
   "execution_count": 46,
   "metadata": {},
   "outputs": [],
   "source": [
    "def getProjectionMatricesForOneLayer(z_layer, n_modes_measured, m_modes_for_layer):\n",
    "    fg.setLayerAltitude(z_layer)\n",
    "    fg.compute()\n",
    "    \n",
    "    R = fg._metapupilL[0][2]\n",
    "    h_target = np.sqrt(fg._targetsL[0][0]**2 + fg._targetsL[0][1])\n",
    "    az_target = np.arctan2(fg._targetsL[0][1], fg._targetsL[0][0])\n",
    "    zp_target = ZernikeProjectionOnSubaperture(pupilRadiusInMeter=R,\n",
    "                                               subapsRadiusInMeter=ap_radius,\n",
    "                                               subapOffAxisRadiusInMeter=h_target,\n",
    "                                               subapOffAxisAzimuthInDegrees=az_target)\n",
    "    p_on = zp_target.getProjectionMatrix()[:n_modes_measured,:m_modes_for_layer]\n",
    "    \n",
    "    h_ngs1 = np.sqrt(fg._ngsL[0][0]**2 + fg._ngsL[0][1])\n",
    "    az_ngs1 = np.arctan2(fg._ngsL[0][1], fg._ngsL[0][0])\n",
    "    zp_ngs1 = ZernikeProjectionOnSubaperture(pupilRadiusInMeter=R,\n",
    "                                             subapsRadiusInMeter=ap_radius,\n",
    "                                             subapOffAxisRadiusInMeter=h_ngs1,\n",
    "                                             subapOffAxisAzimuthInDegrees=az_ngs1)\n",
    "    p_ngs1 = zp_ngs1.getProjectionMatrix()[:n_modes_measured,:m_modes_for_layer]\n",
    "\n",
    "    h_ngs2 = np.sqrt(fg._ngsL[1][0]**2 + fg._ngsL[1][1])\n",
    "    az_ngs2 = np.arctan2(fg._ngsL[1][1], fg._ngsL[1][0])\n",
    "    zp_ngs2 = ZernikeProjectionOnSubaperture(pupilRadiusInMeter=R,\n",
    "                                             subapsRadiusInMeter=ap_radius,\n",
    "                                             subapOffAxisRadiusInMeter=h_ngs2,\n",
    "                                             subapOffAxisAzimuthInDegrees=az_ngs2)\n",
    "    p_ngs2 = zp_ngs2.getProjectionMatrix()[:n_modes_measured,:m_modes_for_layer]\n",
    "    \n",
    "    p_off = np.vstack((p_ngs1, p_ngs2))\n",
    "    \n",
    "    return p_on, p_off"
   ]
  },
  {
   "cell_type": "code",
   "execution_count": 47,
   "metadata": {},
   "outputs": [],
   "source": [
    "#Getting p_on_list containing N (= number of targets) projection matrices along the targets' direction\n",
    "# and p_off_list containing N projection matrices along the NGSs' direction.\n",
    "p_on_list = []\n",
    "p_off_list = []\n",
    "\n",
    "for pos in pos_targets:\n",
    "    fg.addTarget(pos[0], pos[1])\n",
    "    p_on_layer1, p_off_layer1 = getProjectionMatricesForOneLayer(z_layer1, modes_measured, modes_layer1)\n",
    "    p_on_layer2, p_off_layer2 = getProjectionMatricesForOneLayer(z_layer2, modes_measured, modes_layer2)\n",
    "    p_on = np.hstack((p_on_layer1, p_on_layer2))\n",
    "    p_off = np.hstack((p_off_layer1, p_off_layer2))\n",
    "    p_on_list.append(p_on)\n",
    "    p_off_list.append(p_off)"
   ]
  },
  {
   "cell_type": "code",
   "execution_count": 48,
   "metadata": {},
   "outputs": [
    {
     "name": "stdout",
     "output_type": "stream",
     "text": [
      "25\n",
      "25\n",
      "(2, 3)\n",
      "(4, 3)\n"
     ]
    }
   ],
   "source": [
    "print(len(p_on_list))\n",
    "print(len(p_off_list))\n",
    "print(p_on_list[0].shape)\n",
    "print(p_off_list[0].shape)"
   ]
  },
  {
   "cell_type": "code",
   "execution_count": 49,
   "metadata": {},
   "outputs": [
    {
     "name": "stdout",
     "output_type": "stream",
     "text": [
      "25\n",
      "(3, 4)\n"
     ]
    }
   ],
   "source": [
    "#Getting the list of reconstructors\n",
    "w_list = []\n",
    "for p_off in p_off_list:\n",
    "    w = np.linalg.pinv(p_off)\n",
    "    w_list.append(w)\n",
    "\n",
    "print(len(w_list))\n",
    "print(w_list[0].shape)"
   ]
  },
  {
   "cell_type": "markdown",
   "metadata": {},
   "source": [
    "### Getting integrator"
   ]
  },
  {
   "cell_type": "code",
   "execution_count": 50,
   "metadata": {},
   "outputs": [],
   "source": [
    "from apposto.utils.integrator import SimpleIntegrator\n",
    "\n",
    "d = 3.\n",
    "g = 0.3\n",
    "f = temporal_freqs\n",
    "ig = SimpleIntegrator()\n",
    "ig.setDelay(d)\n",
    "ig.setGain(g)\n",
    "ig.setTemporalFrequencies(f)"
   ]
  },
  {
   "cell_type": "markdown",
   "metadata": {},
   "source": [
    "### Computing MCAO residual"
   ]
  },
  {
   "cell_type": "code",
   "execution_count": 51,
   "metadata": {},
   "outputs": [
    {
     "name": "stdout",
     "output_type": "stream",
     "text": [
      "25\n",
      "(2, 2)\n"
     ]
    }
   ],
   "source": [
    "from apposto.utils.residual_calculator import ResidualCalculator\n",
    "\n",
    "res_list = []\n",
    "for i in range(len(cpsd_mats_ngs)):\n",
    "    rc = ResidualCalculator(cpsd_mats_target[i], cpsd_mats_ngs[i], cpsd_noise, ig)\n",
    "    res = rc.getMCAOResidual(p_on_list[i], p_off_list[i], w_list[i], temporal_freqs).real\n",
    "    res_list.append(res)\n",
    "\n",
    "print(len(res_list))\n",
    "print(res_list[0].shape)"
   ]
  },
  {
   "cell_type": "markdown",
   "metadata": {},
   "source": [
    "## Tip tilt maps"
   ]
  },
  {
   "cell_type": "code",
   "execution_count": 52,
   "metadata": {},
   "outputs": [],
   "source": [
    "#Definition of functions needed to plot the ellipses.\n",
    "import matplotlib.pyplot as plt\n",
    "import matplotlib as mpl\n",
    "from matplotlib.patches import Ellipse\n",
    "\n",
    "def getCartesianPositions(rho, theta):\n",
    "    x = rho * np.cos(np.deg2rad(theta))\n",
    "    y = rho * np.sin(np.deg2rad(theta))\n",
    "    return x, y\n",
    "\n",
    "\n",
    "def computeEllipseParameters(covariance_matrix, nstd=1):\n",
    "    eig_values, eig_vectors = np.linalg.eigh(covariance_matrix)\n",
    "    order = eig_values.argsort()[::-1]\n",
    "    val_sort, vect_sort = eig_values[order], eig_vectors[:, order]\n",
    "    theta = np.rad2deg(np.arctan2(vect_sort[:, 0][1], vect_sort[:, 0][0]))\n",
    "    width, height = 2 * nstd * np.sqrt(val_sort)\n",
    "    return width, height, theta\n",
    "\n",
    "def ellipsePlot(distances_xy, width, height, angle,\n",
    "                x_max, x_min, y_max, y_min, scale=4):    \n",
    "    mpl.rcParams['figure.dpi'] = 200\n",
    "    ellipse = [Ellipse((distances_xy[i, 0], distances_xy[i, 1]),\n",
    "                       width[i]/scale, height[i]/scale, angle=angle[i]) for i in range(len(width))]\n",
    "    fig, ax = plt.subplots(subplot_kw={'aspect': 'equal'})\n",
    "    for e in ellipse:\n",
    "        ax.add_artist(e)\n",
    "        e.set_clip_box(ax.bbox)\n",
    "        ax.set_xlim(x_min, x_max)\n",
    "        ax.set_ylim(y_min, y_max)"
   ]
  },
  {
   "cell_type": "code",
   "execution_count": 54,
   "metadata": {},
   "outputs": [
    {
     "data": {
      "text/plain": [
       "Text(0, 0.5, 'arcsec')"
      ]
     },
     "execution_count": 54,
     "metadata": {},
     "output_type": "execute_result"
    },
    {
     "data": {
      "image/png": "[encoded data removed]",
      "text/plain": [
       "<Figure size 1200x800 with 1 Axes>"
      ]
     },
     "metadata": {
      "needs_background": "light"
     },
     "output_type": "display_data"
    }
   ],
   "source": [
    "#Computation of covariance ellipses' parameters.\n",
    "\n",
    "#positionsInXY = np.stack(getCartesianPositions(theta_targets, az_targets), axis=-1)\n",
    "widths = []\n",
    "heights = []\n",
    "ths = []\n",
    "for res in res_list:\n",
    "    w, h, t = computeEllipseParameters(covariance_matrix=res, nstd=1)\n",
    "    widths.append(w)\n",
    "    heights.append(h)\n",
    "    ths.append(t)\n",
    "\n",
    "#Plot of the tip tilt map (field in XY coordinates).\n",
    "import matplotlib.pyplot as plt\n",
    "ellipsePlot(distances_xy=pos_targets, width=widths, height=heights, angle=ths,\n",
    "            x_max=25, x_min=-25, y_max=25, y_min=-25)\n",
    "\n",
    "x_ngs1, y_ngs1 = getCartesianPositions(theta_ngs1, az_ngs1)\n",
    "x_ngs2, y_ngs2 = getCartesianPositions(theta_ngs2, az_ngs2)\n",
    "plt.scatter(x_ngs1, y_ngs1, marker='*', s=50, color='y', zorder=2)\n",
    "plt.scatter(x_ngs2, y_ngs2, marker='*', s=50, color='y', zorder=2)\n",
    "plt.xlabel('arcsec')\n",
    "plt.ylabel('arcsec')"
   ]
  },
  {
   "cell_type": "code",
   "execution_count": null,
   "metadata": {},
   "outputs": [],
   "source": []
  }
 ],
 "metadata": {
  "kernelspec": {
   "display_name": "Python 3",
   "language": "python",
   "name": "python3"
  },
  "language_info": {
   "codemirror_mode": {
    "name": "ipython",
    "version": 3
   },
   "file_extension": ".py",
   "mimetype": "text/x-python",
   "name": "python",
   "nbconvert_exporter": "python",
   "pygments_lexer": "ipython3",
   "version": "3.7.3"
  }
 },
 "nbformat": 4,
 "nbformat_minor": 2
}
