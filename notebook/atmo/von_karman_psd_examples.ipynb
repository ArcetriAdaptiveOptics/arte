{
 "cells": [
  {
   "cell_type": "markdown",
   "metadata": {},
   "source": [
    "We compute the Kolmogorov spectrum total variance over a 10m telescope and we compare it with Noll('76) formula ($\\Delta_{1}$ = 1.029 ($\\frac{D}{r0})^{5/3}$)."
   ]
  },
  {
   "cell_type": "code",
   "execution_count": 13,
   "metadata": {},
   "outputs": [
    {
     "name": "stdout",
     "output_type": "stream",
     "text": [
      "Variance computed using the VonKarmanPsd class: 2118\n",
      "Variance from Noll's formula: 2216\n"
     ]
    }
   ],
   "source": [
    "import numpy as np\n",
    "from scipy.special import jv\n",
    "from arte.atmo.von_karman_psd import VonKarmanPsd\n",
    "\n",
    "'Compute the total variance of Kolmogorov over a 10m telescope:'\n",
    "R = 5\n",
    "r0 = 0.1\n",
    "L0 = np.inf\n",
    "freqs = np.logspace(-5, 4, 1000)\n",
    "bess = jv(1, 2*np.pi*R*freqs)\n",
    "\n",
    "psd = VonKarmanPsd(r0, L0)\n",
    "psd_piston_removed = psd.spatial_psd(freqs) * (1 - (bess/(np.pi*R*freqs))**2)\n",
    "var_in_square_rad = np.trapz(psd_piston_removed*2*np.pi*freqs, freqs)\n",
    "\n",
    "noll_var_in_square_rad = 1.029*(2*R/r0)**(5./3)\n",
    "\n",
    "print(\"Variance computed using the VonKarmanPsd class: %d\" %(var_in_square_rad))\n",
    "print(\"Variance from Noll's formula: %d\" %(noll_var_in_square_rad))"
   ]
  }
 ],
 "metadata": {
  "kernelspec": {
   "display_name": "Python 3",
   "language": "python",
   "name": "python3"
  },
  "language_info": {
   "codemirror_mode": {
    "name": "ipython",
    "version": 3
   },
   "file_extension": ".py",
   "mimetype": "text/x-python",
   "name": "python",
   "nbconvert_exporter": "python",
   "pygments_lexer": "ipython3",
   "version": "3.6.10"
  }
 },
 "nbformat": 4,
 "nbformat_minor": 2
}
