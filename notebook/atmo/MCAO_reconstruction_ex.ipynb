{
 "cells": [
  {
   "cell_type": "code",
   "execution_count": 1,
   "metadata": {},
   "outputs": [],
   "source": [
    "from apposto.utils.modal_decomposer import ModalDecomposer\n",
    "from apposto.types.wavefront import Wavefront\n",
    "from apposto.types.mask import CircularMask\n",
    "from apposto.utils.zernike_generator import ZernikeGenerator"
   ]
  },
  {
   "cell_type": "code",
   "execution_count": 2,
   "metadata": {},
   "outputs": [],
   "source": [
    "mp_diameter = 1024\n",
    "fp_center = (500, 400)\n",
    "fp_radius = 100\n",
    "fp_mask = CircularMask((mp_diameter, mp_diameter), fp_radius, fp_center)"
   ]
  },
  {
   "cell_type": "code",
   "execution_count": 3,
   "metadata": {},
   "outputs": [],
   "source": [
    "zg = ZernikeGenerator(mp_diameter)\n",
    "z = zg.getZernike(2) + zg.getZernike(3)\n",
    "wf = Wavefront(z)"
   ]
  },
  {
   "cell_type": "code",
   "execution_count": 6,
   "metadata": {},
   "outputs": [
    {
     "name": "stdout",
     "output_type": "stream",
     "text": [
      "[0.1953125 0.1953125]\n",
      "0.1953125\n"
     ]
    }
   ],
   "source": [
    "md = ModalDecomposer(n_zernike_modes=2)\n",
    "coeff = md.measureZernikeCoefficientsFromWavefront(wf, fp_mask).toNumpyArray()\n",
    "print(coeff)\n",
    "print(fp_radius / (mp_diameter / 2))"
   ]
  },
  {
   "cell_type": "code",
   "execution_count": null,
   "metadata": {},
   "outputs": [],
   "source": []
  }
 ],
 "metadata": {
  "kernelspec": {
   "display_name": "Python 3",
   "language": "python",
   "name": "python3"
  },
  "language_info": {
   "codemirror_mode": {
    "name": "ipython",
    "version": 3
   },
   "file_extension": ".py",
   "mimetype": "text/x-python",
   "name": "python",
   "nbconvert_exporter": "python",
   "pygments_lexer": "ipython3",
   "version": "3.7.3"
  }
 },
 "nbformat": 4,
 "nbformat_minor": 2
}
