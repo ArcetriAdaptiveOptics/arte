{
 "cells": [
  {
   "cell_type": "code",
   "execution_count": 13,
   "metadata": {},
   "outputs": [],
   "source": [
    "from apposto.utils.zernike_generator import ZernikeGenerator\n",
    "import numpy as np"
   ]
  },
  {
   "cell_type": "code",
   "execution_count": 14,
   "metadata": {},
   "outputs": [],
   "source": [
    "def reconstructor_1(ima, zernike_modes):\n",
    "    zg = ZernikeGenerator(ima.shape[0])\n",
    "    n_punti = ima.compressed().shape[0]\n",
    "    interaction_mat = np.zeros((n_punti, zernike_modes.size))\n",
    "    for i in range(zernike_modes.size):\n",
    "        z = zg.getZernike(zernike_modes[i])\n",
    "        z_new = np.ma.masked_array(z, mask=ima.mask)\n",
    "        interaction_mat.T[i] = z_new.compressed()\n",
    "\n",
    "    reconstructor = np.linalg.pinv(interaction_mat)\n",
    "    coeff = np.dot(reconstructor, ima.compressed())\n",
    "    return interaction_mat, reconstructor, coeff\n",
    "\n",
    "def reconstructor_2(ima, zernike_modes):\n",
    "    zg = ZernikeGenerator(ima.shape[0])\n",
    "    n_punti = ima.compressed().shape[0]\n",
    "    int_mat = np.zeros((zernike_modes.size, n_punti))\n",
    "    for i in range(zernike_modes.size):\n",
    "        z = zg.getZernike(zernike_modes[i])\n",
    "        z_new = np.ma.masked_array(z, mask=ima.mask)\n",
    "        int_mat[i] = z_new.compressed()\n",
    "    rec = np.linalg.pinv(int_mat)\n",
    "    coeff = np.dot(ima.compressed(), rec)\n",
    "    return int_mat, rec, coeff"
   ]
  },
  {
   "cell_type": "code",
   "execution_count": 15,
   "metadata": {},
   "outputs": [],
   "source": [
    "def createCircularMask(ima_shape, mask_center, mask_radius):\n",
    "    Y, X = np.indices(ima_shape)\n",
    "    dist_from_center = np.sqrt((X - mask_center[0])**2 + (Y - mask_center[1])**2)\n",
    "    mask = dist_from_center <= mask_radius\n",
    "    return mask\n",
    "\n",
    "def getFootprintImage(full_ima, fp_center, fp_radius):\n",
    "    mask = createCircularMask(full_ima.shape, fp_center, fp_radius)\n",
    "    fp_ima = np.ma.masked_where(mask == False, full_ima)\n",
    "    return fp_ima"
   ]
  },
  {
   "cell_type": "code",
   "execution_count": 16,
   "metadata": {},
   "outputs": [],
   "source": [
    "mp_diameter_in_pixel = 1024\n",
    "fp_diameter_in_pixel = 200\n",
    "fp_center = (450,500)\n",
    "\n",
    "zg_mp = ZernikeGenerator(mp_diameter_in_pixel)\n",
    "ima_mp = zg_mp.getZernike(2) + zg_mp.getZernike(3) + zg_mp.getZernike(4)\n",
    "ima_fp = getFootprintImage(ima_mp, fp_center, fp_diameter_in_pixel/2)"
   ]
  },
  {
   "cell_type": "code",
   "execution_count": 17,
   "metadata": {},
   "outputs": [],
   "source": [
    "zern_array = np.array([2, 3, 4])\n",
    "interaction_mp, reconstructor_mp, a_mp = reconstructor_1(ima_mp, zern_array)\n",
    "interaction_fp, reconstructor_fp, a_fp = reconstructor_1(ima_fp, zern_array)"
   ]
  },
  {
   "cell_type": "code",
   "execution_count": 27,
   "metadata": {},
   "outputs": [
    {
     "name": "stdout",
     "output_type": "stream",
     "text": [
      "Shape of MP interaction matrix: (823592, 3) \n",
      "\n",
      "Shape of FP interaction matrix: (31417, 3) \n",
      "\n",
      "Shape of MP reconstructor: (3, 823592) \n",
      "\n",
      "Shape of FP reconstructor: (3, 31417) \n",
      "\n",
      "MP coefficients: [1. 1. 1.] \n",
      "\n",
      "FP coefficients: [1. 1. 1.] \n",
      "\n"
     ]
    }
   ],
   "source": [
    "print('Shape of MP interaction matrix: {} \\n'.format(interaction_mp.shape))\n",
    "print('Shape of FP interaction matrix: {} \\n'.format(interaction_fp.shape))\n",
    "print('Shape of MP reconstructor: {} \\n'.format(reconstructor_mp.shape))\n",
    "print('Shape of FP reconstructor: {} \\n'.format(reconstructor_fp.shape))\n",
    "print('MP coefficients: {} \\n'.format(a_mp))\n",
    "print('FP coefficients: {} \\n'.format(a_fp))"
   ]
  },
  {
   "cell_type": "code",
   "execution_count": null,
   "metadata": {},
   "outputs": [],
   "source": []
  }
 ],
 "metadata": {
  "kernelspec": {
   "display_name": "Python 3",
   "language": "python",
   "name": "python3"
  },
  "language_info": {
   "codemirror_mode": {
    "name": "ipython",
    "version": 3
   },
   "file_extension": ".py",
   "mimetype": "text/x-python",
   "name": "python",
   "nbconvert_exporter": "python",
   "pygments_lexer": "ipython3",
   "version": "3.7.3"
  }
 },
 "nbformat": 4,
 "nbformat_minor": 2
}
