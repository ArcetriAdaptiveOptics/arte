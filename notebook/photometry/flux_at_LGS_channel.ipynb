{
 "cells": [
  {
   "cell_type": "markdown",
   "id": "803c6cdd-8d29-4de5-9e2d-125f068bb6f8",
   "metadata": {
    "tags": []
   },
   "source": [
    "# Flux at LGS channel"
   ]
  },
  {
   "cell_type": "code",
   "execution_count": 1,
   "id": "913d1098-ca25-490e-a27b-20adcdb2b165",
   "metadata": {},
   "outputs": [],
   "source": [
    "import numpy as np\n",
    "import astropy.units as u\n",
    "import matplotlib as mpl\n",
    "import matplotlib.pyplot as plt\n",
    "from arte.photometry.morfeo_transmissive_systems import MorfeoLgsChannelTransmissiveSystem_002"
   ]
  },
  {
   "cell_type": "code",
   "execution_count": 2,
   "id": "5c3f806c-30d3-4a5d-ab14-9b2d0436bbec",
   "metadata": {},
   "outputs": [
    {
     "name": "stderr",
     "output_type": "stream",
     "text": [
      "WARNING: 18 bin(s) contained negative flux or throughput; it/they will be set to zero.\n",
      "  points: [3800. 3900. 4000. 4100. 4200. 4300. 4400. 4500. 4600. 4700. 4800. 4900.\n",
      " 5000. 5100. 5200. 5300. 5400. 5500.]\n",
      "  lookup_table: [-1.11022302e-16 -1.11022302e-16 -1.11022302e-16 -1.11022302e-16\n",
      " -1.11022302e-16 -1.11022302e-16 -1.11022302e-16 -1.11022302e-16\n",
      " -1.11022302e-16 -1.11022302e-16 -1.11022302e-16 -1.11022302e-16\n",
      " -1.11022302e-16 -1.11022302e-16 -1.11022302e-16 -1.11022302e-16\n",
      " -1.11022302e-16 -1.11022302e-16] [synphot.models]\n"
     ]
    },
    {
     "name": "stdout",
     "output_type": "stream",
     "text": [
      "Flux at 0.589 μm: 604.9218284246432 ph/subap/frame\n"
     ]
    },
    {
     "data": {
      "image/png": "[encoded data removed]",
      "text/plain": [
       "<Figure size 600x400 with 1 Axes>"
      ]
     },
     "metadata": {
      "needs_background": "light"
     },
     "output_type": "display_data"
    }
   ],
   "source": [
    "flux_at_M1 = 4.4e6 * u.ph/u.m**2/u.s\n",
    "D_M1 = 38.54 * u.m\n",
    "N_subap = 68\n",
    "T = 2 * u.ms\n",
    "lgs_ch = MorfeoLgsChannelTransmissiveSystem_002()\n",
    "waveset = lgs_ch.transmittance.waveset\n",
    "lgs_transmittance = lgs_ch.transmittance(waveset)\n",
    "\n",
    "flux_at_lgs = flux_at_M1 * lgs_transmittance * T.to(u.s) * (D_M1 / N_subap)**2\n",
    "\n",
    "mpl.rcParams['figure.dpi'] = 100\n",
    "plt.plot(waveset.to(u.um), flux_at_lgs)\n",
    "plt.grid()\n",
    "plt.ylabel('Flux [ph/subap/frame]')\n",
    "plt.xlabel('Wavelength [μm]')\n",
    "plt.xlim(0, 4.4)\n",
    "print('Flux at 0.589 μm: %s ph/subap/frame' %flux_at_lgs[np.argmax(flux_at_lgs)].value)"
   ]
  },
  {
   "cell_type": "code",
   "execution_count": 3,
   "id": "cf8ee4c1-a808-4078-8a39-a0217f4212aa",
   "metadata": {},
   "outputs": [
    {
     "data": {
      "text/latex": [
       "$544.71581 \\; \\mathrm{ph}$"
      ],
      "text/plain": [
       "<Quantity 544.71581185 ph>"
      ]
     },
     "execution_count": 3,
     "metadata": {},
     "output_type": "execute_result"
    }
   ],
   "source": [
    "#With Cedric's transmission\n",
    "flux_at_M1 * 0.1927 * T.to(u.s) * (D_M1 / N_subap)**2"
   ]
  },
  {
   "cell_type": "code",
   "execution_count": 4,
   "id": "0381d2fc-d6ea-45c0-8526-a660792c024e",
   "metadata": {},
   "outputs": [
    {
     "name": "stderr",
     "output_type": "stream",
     "text": [
      "WARNING: 18 bin(s) contained negative flux or throughput; it/they will be set to zero.\n",
      "  points: [3800. 3900. 4000. 4100. 4200. 4300. 4400. 4500. 4600. 4700. 4800. 4900.\n",
      " 5000. 5100. 5200. 5300. 5400. 5500.]\n",
      "  lookup_table: [-1.11022302e-16 -1.11022302e-16 -1.11022302e-16 -1.11022302e-16\n",
      " -1.11022302e-16 -1.11022302e-16 -1.11022302e-16 -1.11022302e-16\n",
      " -1.11022302e-16 -1.11022302e-16 -1.11022302e-16 -1.11022302e-16\n",
      " -1.11022302e-16 -1.11022302e-16 -1.11022302e-16 -1.11022302e-16\n",
      " -1.11022302e-16 -1.11022302e-16] [synphot.models]\n"
     ]
    },
    {
     "data": {
      "text/latex": [
       "$521.38392 \\; \\mathrm{ph}$"
      ],
      "text/plain": [
       "<Quantity 521.3839164 ph>"
      ]
     },
     "execution_count": 4,
     "metadata": {},
     "output_type": "execute_result"
    }
   ],
   "source": [
    "#With version 001 of MorfeoLgsChannelTransmissiveSystem\n",
    "from arte.photometry.morfeo_transmissive_systems import MorfeoLgsChannelTransmissiveSystem_001\n",
    "\n",
    "lgs_ch_2 = MorfeoLgsChannelTransmissiveSystem_001()\n",
    "waveset_2 = lgs_ch_2.transmittance.waveset\n",
    "lgs_transmittance_2 = lgs_ch_2.transmittance(waveset_2)\n",
    "\n",
    "flux_at_lgs_2 = flux_at_M1 * lgs_transmittance_2 * T.to(u.s) * (D_M1 / N_subap)**2\n",
    "flux_at_lgs_2.max()"
   ]
  },
  {
   "cell_type": "code",
   "execution_count": null,
   "id": "24432f8a-77a1-4c92-98bb-d2e4c3eebff5",
   "metadata": {},
   "outputs": [],
   "source": []
  }
 ],
 "metadata": {
  "kernelspec": {
   "display_name": "Python 3 (ipykernel)",
   "language": "python",
   "name": "python3"
  },
  "language_info": {
   "codemirror_mode": {
    "name": "ipython",
    "version": 3
   },
   "file_extension": ".py",
   "mimetype": "text/x-python",
   "name": "python",
   "nbconvert_exporter": "python",
   "pygments_lexer": "ipython3",
   "version": "3.9.12"
  }
 },
 "nbformat": 4,
 "nbformat_minor": 5
}
