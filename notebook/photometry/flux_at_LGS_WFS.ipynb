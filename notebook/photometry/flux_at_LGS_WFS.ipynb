{
 "cells": [
  {
   "cell_type": "markdown",
   "id": "803c6cdd-8d29-4de5-9e2d-125f068bb6f8",
   "metadata": {
    "tags": []
   },
   "source": [
    "# Flux at LGS channel\n",
    "\n",
    "We estimate the flux at the LGS WFS as\n",
    "\n",
    "$F_2 = F_1 \\ T \\ \\tau \\ \\left(\\dfrac{D}{N_{sa}}\\right)^2$\n",
    "\n",
    "where $F_2$ is the flux in [e$^-$/frame/sa] at the LGS WFS, $F_1$ is the Sodium return flux at the entrance pupil in [ph/s/m$^2$], $T$ is the transmittance of the LGS WFS path, $\\tau$ is the LGS WFS integration time, $D$ is the ELT entrance pupil diameter and $N_{sa}$ is the number of subapertures of the LGS WFS."
   ]
  },
  {
   "cell_type": "code",
   "execution_count": 1,
   "id": "913d1098-ca25-490e-a27b-20adcdb2b165",
   "metadata": {},
   "outputs": [],
   "source": [
    "import numpy as np\n",
    "import astropy.units as u\n",
    "import matplotlib as mpl\n",
    "import matplotlib.pyplot as plt\n",
    "from arte.photometry.morfeo_transmissive_systems import MorfeoLgsChannelTransmissiveSystem_004"
   ]
  },
  {
   "cell_type": "code",
   "execution_count": 2,
   "id": "5c3f806c-30d3-4a5d-ab14-9b2d0436bbec",
   "metadata": {},
   "outputs": [
    {
     "name": "stderr",
     "output_type": "stream",
     "text": [
      "WARNING: 18 bin(s) contained negative flux or throughput; it/they will be set to zero.\n",
      "  points: [3800. 3900. 4000. 4100. 4200. 4300. 4400. 4500. 4600. 4700. 4800. 4900.\n",
      " 5000. 5100. 5200. 5300. 5400. 5500.]\n",
      "  lookup_table: [-1.11022302e-16 -1.11022302e-16 -1.11022302e-16 -1.11022302e-16\n",
      " -1.11022302e-16 -1.11022302e-16 -1.11022302e-16 -1.11022302e-16\n",
      " -1.11022302e-16 -1.11022302e-16 -1.11022302e-16 -1.11022302e-16\n",
      " -1.11022302e-16 -1.11022302e-16 -1.11022302e-16 -1.11022302e-16\n",
      " -1.11022302e-16 -1.11022302e-16] [synphot.models]\n"
     ]
    },
    {
     "name": "stdout",
     "output_type": "stream",
     "text": [
      "Flux at 0.589 μm: 691.653292949996 e-/subap/frame\n"
     ]
    },
    {
     "data": {
      "image/png": "[encoded data removed]",
      "text/plain": [
       "<Figure size 600x400 with 1 Axes>"
      ]
     },
     "metadata": {
      "needs_background": "light"
     },
     "output_type": "display_data"
    }
   ],
   "source": [
    "flux_at_M1 = 4.4e6 * u.ph/u.m**2/u.s\n",
    "D_M1 = 38.542 * u.m\n",
    "N_subap = 68\n",
    "T = 2 * u.ms\n",
    "lgs_ch = MorfeoLgsChannelTransmissiveSystem_004()\n",
    "waveset = lgs_ch.transmittance.waveset\n",
    "lgs_transmittance = lgs_ch.transmittance(waveset)\n",
    "\n",
    "flux_at_lgs = flux_at_M1 * lgs_transmittance * T.to(u.s) * (D_M1 / N_subap)**2\n",
    "\n",
    "mpl.rcParams['figure.dpi'] = 100\n",
    "plt.plot(waveset.to(u.um), flux_at_lgs)\n",
    "plt.grid()\n",
    "plt.ylabel('Flux [e$^-$/subap/frame]')\n",
    "plt.xlabel('Wavelength [μm]')\n",
    "plt.xlim(0, 4.4)\n",
    "print('Flux at 0.589 μm: %s e-/subap/frame' %flux_at_lgs[np.argmax(flux_at_lgs)].value)"
   ]
  },
  {
   "cell_type": "code",
   "execution_count": 3,
   "id": "d71aaaf0-008f-4d87-8f58-3a712aae412d",
   "metadata": {},
   "outputs": [
    {
     "name": "stdout",
     "output_type": "stream",
     "text": [
      "Throughput at 589 nm: 0.24465557022946982\n"
     ]
    }
   ],
   "source": [
    "print('Throughput at 589 nm: %s' %(lgs_transmittance.max()))"
   ]
  },
  {
   "cell_type": "code",
   "execution_count": 4,
   "id": "4fd3f2c1-c3c3-4665-aa11-d3cad9b1f4b0",
   "metadata": {},
   "outputs": [
    {
     "name": "stdout",
     "output_type": "stream",
     "text": [
      "Throughput with losses: 0.18006649968888983\n",
      "Final flux: 509.0568236111972 ph\n"
     ]
    }
   ],
   "source": [
    "transmittance_loss = 0.92 * 0.8\n",
    "throughput = lgs_transmittance.max() * transmittance_loss\n",
    "print('Throughput with losses: %s' %throughput)\n",
    "flux_final = flux_at_M1 * throughput * T.to(u.s) * (D_M1 / N_subap)**2\n",
    "print('Final flux: %s' %flux_final)"
   ]
  },
  {
   "cell_type": "code",
   "execution_count": 5,
   "id": "cf8ee4c1-a808-4078-8a39-a0217f4212aa",
   "metadata": {},
   "outputs": [
    {
     "name": "stdout",
     "output_type": "stream",
     "text": [
      "544.7723484343945 ph\n",
      "411.25439911129 ph\n",
      "598.8903807190555 ph\n"
     ]
    }
   ],
   "source": [
    "#With Cedric's transmission\n",
    "print(flux_at_M1 * 0.1927 * T.to(u.s) * (D_M1 / N_subap)**2)\n",
    "\n",
    "#With worst-case LGS dichroic \n",
    "print(flux_at_M1 * throughput / 0.94445277 * 0.763 * T.to(u.s) * (D_M1 / N_subap)**2)\n",
    "\n",
    "#With general throughput\n",
    "print(flux_at_M1 * throughput / 0.850 * T.to(u.s) * (D_M1 / N_subap)**2)"
   ]
  },
  {
   "cell_type": "code",
   "execution_count": null,
   "id": "a3891eca-820a-4492-b3ea-a3d7938c10fc",
   "metadata": {},
   "outputs": [],
   "source": []
  }
 ],
 "metadata": {
  "kernelspec": {
   "display_name": "Python 3 (ipykernel)",
   "language": "python",
   "name": "python3"
  },
  "language_info": {
   "codemirror_mode": {
    "name": "ipython",
    "version": 3
   },
   "file_extension": ".py",
   "mimetype": "text/x-python",
   "name": "python",
   "nbconvert_exporter": "python",
   "pygments_lexer": "ipython3",
   "version": "3.9.12"
  }
 },
 "nbformat": 4,
 "nbformat_minor": 5
}
