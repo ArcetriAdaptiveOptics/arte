{
 "cells": [
  {
   "cell_type": "markdown",
   "id": "6c117581-4c9e-4169-b025-9b6ac267c936",
   "metadata": {
    "tags": []
   },
   "source": [
    "# Flux at Low Order channel\n",
    "\n",
    "We estimate the flux at the Low Order WFS as\n",
    "\n"
   ]
  },
  {
   "cell_type": "code",
   "execution_count": 1,
   "id": "3b1e0f92-e52c-43e2-86fb-4f66924435bf",
   "metadata": {},
   "outputs": [],
   "source": [
    "import numpy as np\n",
    "import astropy.units as u\n",
    "import matplotlib as mpl\n",
    "import matplotlib.pyplot as plt\n",
    "from arte.photometry.morfeo_transmissive_systems import MorfeoLowOrderChannelTransmissiveSystem_002\n",
    "from arte.photometry.eso_sky_calc import EsoSkyCalc\n",
    "from arte.photometry.normalized_star_spectrum import get_normalized_star_spectrum\n",
    "from arte.photometry.filters import Filters\n",
    "from synphot.observation import Observation\n",
    "from synphot import SpectralElement, Empirical1D\n",
    "from morfeo.utils.constants import ELT\n",
    "\n",
    "import warnings\n",
    "warnings.filterwarnings('ignore')"
   ]
  },
  {
   "cell_type": "code",
   "execution_count": 6,
   "id": "1682170e-2f85-4606-ba62-ca9253714f99",
   "metadata": {},
   "outputs": [
    {
     "name": "stdout",
     "output_type": "stream",
     "text": [
      "Note: skycalc_cli v.1.4 output wavelength unit is nm (it is μm in v.1.3)\n",
      "1785666280.9253318 ct / s\n",
      "17.85666280925332 ct\n"
     ]
    }
   ],
   "source": [
    "#Compute flux at M1\n",
    "filt_LO = Filters.ESO_ETC_H\n",
    "zenith_angle = 30 * u.deg\n",
    "airmass = 1 / np.cos(zenith_angle.to(u.rad))\n",
    "f_vega = get_normalized_star_spectrum(spectral_type='vega', magnitude=0, filter_name=filt_LO)\n",
    "# sky = EsoSkyCalc(airmass=airmass, moon_target_sep=45.0, moon_alt=45, observatory='3060m', wdelta=10)\n",
    "sky = EsoSkyCalc(airmass=airmass, incl_moon='N', observatory='3060m')\n",
    "sky_se = SpectralElement(Empirical1D, points=sky.lam, lookup_table=sky.trans)\n",
    "lo_ch = MorfeoLowOrderChannelTransmissiveSystem_002()\n",
    "filt = sky_se * lo_ch.as_transmissive_element().transmittance \n",
    "f_vega_at_LO = Observation(spec=f_vega, band=filt, force='taper', binset=f_vega.waveset)\n",
    "\n",
    "area_subap = 1 * u.m**2\n",
    "# area_subap = ELT.photometric_area / 4\n",
    "counts = f_vega_at_LO.countrate(area=area_subap)\n",
    "# print(f_vega_at_LO)\n",
    "print(counts)\n",
    "exp_time = 1 * u.s\n",
    "# exp_time = 2 * u.ms\n",
    "print((counts * exp_time).decompose() / 1e8) "
   ]
  },
  {
   "cell_type": "code",
   "execution_count": 6,
   "id": "ada334e1-c031-4e7a-ac73-9fc6391fddf0",
   "metadata": {},
   "outputs": [
    {
     "name": "stdout",
     "output_type": "stream",
     "text": [
      "1.5 um 1.8 um\n",
      "H band average transmission of LO channel: 0.30737934409877227\n",
      "Flux at LO WFS: 305735.3379881788 [e$^-$/m$^2$/s]\n"
     ]
    }
   ],
   "source": [
    "wv_H_min = 1.5 * u.um\n",
    "wv_H_max = 1.8 * u.um\n",
    "\n",
    "id_H_min = np.argwhere(wv==wv_H_min.to(u.Angstrom))[0][0]\n",
    "id_H_max = np.argwhere(wv==wv_H_max.to(u.Angstrom))[0][0]\n",
    "flux_mean_H = np.mean(flux_at_LO[id_H_min:id_H_max])\n",
    "trans_lo_mean_H = np.mean(lo_trans[id_H_min:id_H_max])\n",
    "print(wv[id_H_min].to(u.um), wv[id_H_max].to(u.um)) \n",
    "print('H band average transmission of LO channel: %s' %trans_lo_mean_H)\n",
    "print('Flux at LO WFS: %s [e$^-$/m$^2$/s]' %flux_mean_H.value)"
   ]
  },
  {
   "cell_type": "code",
   "execution_count": null,
   "id": "6b554cb6-e00d-4f7e-b0c7-97c4f9758e32",
   "metadata": {},
   "outputs": [],
   "source": []
  }
 ],
 "metadata": {
  "kernelspec": {
   "display_name": "Python 3 (ipykernel)",
   "language": "python",
   "name": "python3"
  },
  "language_info": {
   "codemirror_mode": {
    "name": "ipython",
    "version": 3
   },
   "file_extension": ".py",
   "mimetype": "text/x-python",
   "name": "python",
   "nbconvert_exporter": "python",
   "pygments_lexer": "ipython3",
   "version": "3.9.12"
  }
 },
 "nbformat": 4,
 "nbformat_minor": 5
}
